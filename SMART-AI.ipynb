{
 "cells": [
  {
   "cell_type": "code",
   "execution_count": 6,
   "id": "ed3d7267-a95e-494d-b6a4-c4aaa584dfe7",
   "metadata": {},
   "outputs": [],
   "source": [
    "# Imports required\n",
    "import requests\n",
    "from bs4 import BeautifulSoup\n",
    "import smtplib\n",
    "from email.mime.text import MIMEText"
   ]
  },
  {
   "cell_type": "code",
   "execution_count": 7,
   "id": "b2e50417-6170-4edd-9a57-c5e4554af5ac",
   "metadata": {},
   "outputs": [],
   "source": [
    "def scrape_website(url):\n",
    "    \"\"\"This function will scrape a website indicated by the input URL.\n",
    "\n",
    "    This function will search for the website indicated by the ilnput URL and return the information from it.\n",
    "\n",
    "    Parameters:\n",
    "    param1 (string): Input URL. Currently, this function has no security for malicious incoming URLs.\n",
    "\n",
    "    Returns:\n",
    "    dataframe: Description of the return value\n",
    "\n",
    "    Raises:\n",
    "        ExceptionName: 'Invalid URL'.\n",
    "\n",
    "    Examples:\n",
    "        url = 'https://www.worldometers.info/world-population/'\n",
    "        >>> function_name(url)\n",
    "    result\n",
    "    \"\"\"\n",
    "\n",
    "    response = requests.get(url)\n",
    "    if response.status_code == 200:\n",
    "        soup = BeautifulSoup(response.content, 'html.parser')\n",
    "        # Extract specific data required\n",
    "        titles = [title.text for title in soup.findall('h1')]\n",
    "        return titles\n",
    "    else:\n",
    "        raise Exception('Invalid URL')"
   ]
  },
  {
   "cell_type": "code",
   "execution_count": 8,
   "id": "6036e22f-ef4c-4bcb-9186-ad26fe16bdc1",
   "metadata": {},
   "outputs": [],
   "source": [
    "def monitor_website(url, condition_function):\n",
    "    data = scrape_website()\n",
    "    if data:\n",
    "        return condition_function(data)\n",
    "    return False"
   ]
  },
  {
   "cell_type": "code",
   "execution_count": 9,
   "id": "fd004832-0768-402b-828e-f83f592bed23",
   "metadata": {},
   "outputs": [],
   "source": [
    "def sample_condition(data):\n",
    "    # Check if specific title is present\n",
    "    return \"Current World Population\" in data"
   ]
  },
  {
   "cell_type": "code",
   "execution_count": 10,
   "id": "4ee95663-c6e1-4ebf-bf36-3376a1dbeaf1",
   "metadata": {},
   "outputs": [],
   "source": [
    "\n",
    "\n",
    "def send_email_alert(subject, body, to_email):\n",
    "    from_email = \"your_email@example.com\"\n",
    "    password = \"your_password\"\n",
    "    \n",
    "    msg = MIMEText(body)\n",
    "    msg['Subject'] = subject\n",
    "    msg['From'] = from_email\n",
    "    msg['To'] = to_email\n",
    "    \n",
    "    server = smtplib.SMTP_SSL('smtp.example.com', 465)\n",
    "    server.login(from_email, password)\n",
    "    server.sendmail(from_email, to_email, msg.as_string())\n",
    "    server.quit()"
   ]
  },
  {
   "cell_type": "code",
   "execution_count": 11,
   "id": "cc017db7-963f-432e-81a0-e430dc4ae23b",
   "metadata": {},
   "outputs": [
    {
     "ename": "ModuleNotFoundError",
     "evalue": "No module named 'twilio'",
     "output_type": "error",
     "traceback": [
      "\u001b[1;31m---------------------------------------------------------------------------\u001b[0m",
      "\u001b[1;31mModuleNotFoundError\u001b[0m                       Traceback (most recent call last)",
      "Input \u001b[1;32mIn [11]\u001b[0m, in \u001b[0;36m<cell line: 1>\u001b[1;34m()\u001b[0m\n\u001b[1;32m----> 1\u001b[0m \u001b[38;5;28;01mfrom\u001b[39;00m \u001b[38;5;21;01mtwilio\u001b[39;00m\u001b[38;5;21;01m.\u001b[39;00m\u001b[38;5;21;01mrest\u001b[39;00m \u001b[38;5;28;01mimport\u001b[39;00m Client\n\u001b[0;32m      3\u001b[0m \u001b[38;5;28;01mdef\u001b[39;00m \u001b[38;5;21msend_sms_alert\u001b[39m(body, to_number):\n\u001b[0;32m      4\u001b[0m     account_sid \u001b[38;5;241m=\u001b[39m \u001b[38;5;124m'\u001b[39m\u001b[38;5;124myour_account_sid\u001b[39m\u001b[38;5;124m'\u001b[39m\n",
      "\u001b[1;31mModuleNotFoundError\u001b[0m: No module named 'twilio'"
     ]
    }
   ],
   "source": [
    "from twilio.rest import Client\n",
    "\n",
    "def send_sms_alert(body, to_number):\n",
    "    account_sid = 'your_account_sid'\n",
    "    auth_token = 'your_auth_token'\n",
    "    client = Client(account_sid, auth_token)\n",
    "\n",
    "    message = client.messages.create(\n",
    "        body=body,\n",
    "        from_='+1234567890',  # Your Twilio number\n",
    "        to=to_number\n",
    "    )"
   ]
  },
  {
   "cell_type": "code",
   "execution_count": null,
   "id": "ab32522e-2e51-4d21-82be-9f013d97e74d",
   "metadata": {},
   "outputs": [],
   "source": [
    "import schedule\n",
    "import time\n",
    "\n",
    "def job():\n",
    "    url = 'http://example.com'\n",
    "    if monitor_website(url, sample_condition):\n",
    "        send_email_alert('Process Failed', 'The specific condition was met.', 'recipient@example.com')\n",
    "        send_sms_alert('The specific condition was met.', '+1234567890')\n",
    "\n",
    "schedule.every(10).minutes.do(job)\n",
    "\n",
    "while True:\n",
    "    schedule.run_pending()\n",
    "    time.sleep(1)"
   ]
  },
  {
   "cell_type": "code",
   "execution_count": null,
   "id": "b46f4916-cfc1-45d3-b370-92948825635a",
   "metadata": {},
   "outputs": [],
   "source": [
    "from flask import Flask, request, jsonify\n",
    "\n",
    "app = Flask(__name__)\n",
    "\n",
    "@app.route('/start', methods=['POST'])\n",
    "def start_bot():\n",
    "    url = request.json.get('url')\n",
    "    # Add logic to start monitoring the specified URL\n",
    "    return jsonify({\"status\": \"Monitoring started\"}), 200\n",
    "\n",
    "@app.route('/stop', methods=['POST'])\n",
    "def stop_bot():\n",
    "    # Add logic to stop monitoring\n",
    "    return jsonify({\"status\": \"Monitoring stopped\"}), 200\n",
    "\n",
    "if __name__ == '__main__':\n",
    "    app.run(debug=True)\n"
   ]
  }
 ],
 "metadata": {
  "kernelspec": {
   "display_name": "Python 3 (ipykernel)",
   "language": "python",
   "name": "python3"
  },
  "language_info": {
   "codemirror_mode": {
    "name": "ipython",
    "version": 3
   },
   "file_extension": ".py",
   "mimetype": "text/x-python",
   "name": "python",
   "nbconvert_exporter": "python",
   "pygments_lexer": "ipython3",
   "version": "3.9.12"
  }
 },
 "nbformat": 4,
 "nbformat_minor": 5
}
